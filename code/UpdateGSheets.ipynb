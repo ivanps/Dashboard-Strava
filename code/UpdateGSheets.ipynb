{
 "cells": [
  {
   "cell_type": "markdown",
   "id": "56aaa622",
   "metadata": {},
   "source": [
    "# Update the Google Sheets file\n",
    "\n",
    "This code will replace the data in the Google Sheets file that is linked to the Looker Studio dashboard.\n",
    "* GS file name: Strava_IPS\n",
    "* GS file directory: My Drive > Capacitación > CADI Looker Studio.\n",
    "* GS file link: https://docs.google.com/spreadsheets/d/1CX7-R2ZdV8ZAsIpv5wou9fpcItYjsbHdaTmjgUCM9fE/edit?usp=drive_link\n",
    "  "
   ]
  },
  {
   "cell_type": "code",
   "execution_count": 7,
   "id": "09e83881",
   "metadata": {},
   "outputs": [
    {
     "ename": "ModuleNotFoundError",
     "evalue": "No module named 'gspread'",
     "output_type": "error",
     "traceback": [
      "\u001b[31m---------------------------------------------------------------------------\u001b[39m",
      "\u001b[31mModuleNotFoundError\u001b[39m                       Traceback (most recent call last)",
      "\u001b[36mCell\u001b[39m\u001b[36m \u001b[39m\u001b[32mIn[7]\u001b[39m\u001b[32m, line 1\u001b[39m\n\u001b[32m----> \u001b[39m\u001b[32m1\u001b[39m \u001b[38;5;28;01mimport\u001b[39;00m\u001b[38;5;250m \u001b[39m\u001b[34;01mgspread\u001b[39;00m\n\u001b[32m      2\u001b[39m \u001b[38;5;28;01mfrom\u001b[39;00m\u001b[38;5;250m \u001b[39m\u001b[34;01mgoogle\u001b[39;00m\u001b[34;01m.\u001b[39;00m\u001b[34;01mcolab\u001b[39;00m\u001b[38;5;250m \u001b[39m\u001b[38;5;28;01mimport\u001b[39;00m auth\n\u001b[32m      3\u001b[39m \u001b[38;5;28;01mfrom\u001b[39;00m\u001b[38;5;250m \u001b[39m\u001b[34;01moauth2client\u001b[39;00m\u001b[34;01m.\u001b[39;00m\u001b[34;01mclient\u001b[39;00m\u001b[38;5;250m \u001b[39m\u001b[38;5;28;01mimport\u001b[39;00m GoogleCredentials\n",
      "\u001b[31mModuleNotFoundError\u001b[39m: No module named 'gspread'"
     ]
    }
   ],
   "source": [
    "import gspread\n",
    "from google.colab import auth\n",
    "from oauth2client.client import GoogleCredentials\n",
    "\n",
    "# Authenticate and create the PyDrive client\n",
    "auth.authenticate_user()\n",
    "gc = gspread.authorize(GoogleCredentials.get_application_default())\n",
    "\n",
    "# Open the Google Sheets file by name\n",
    "spreadsheet = gc.open('Strava_IPS')"
   ]
  }
 ],
 "metadata": {
  "kernelspec": {
   "display_name": ".conda",
   "language": "python",
   "name": "python3"
  },
  "language_info": {
   "codemirror_mode": {
    "name": "ipython",
    "version": 3
   },
   "file_extension": ".py",
   "mimetype": "text/x-python",
   "name": "python",
   "nbconvert_exporter": "python",
   "pygments_lexer": "ipython3",
   "version": "3.12.9"
  }
 },
 "nbformat": 4,
 "nbformat_minor": 5
}
